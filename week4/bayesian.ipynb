{
 "cells": [
  {
   "cell_type": "code",
   "execution_count": 2,
   "metadata": {
    "colab": {},
    "colab_type": "code",
    "id": "5iOYEiU1pbcB"
   },
   "outputs": [],
   "source": [
    "import numpy as np\n",
    "import matplotlib.pyplot as plt\n",
    "import seaborn as sns\n",
    "import scipy.stats as st\n",
    "%matplotlib inline\n",
    "sns.set(style='ticks', palette='Set2')"
   ]
  },
  {
   "cell_type": "markdown",
   "metadata": {
    "colab_type": "text",
    "id": "beuY1nFFpbcF"
   },
   "source": [
    "# Bayesian in Python\n",
    "\n",
    "In this tutorial, we are going to go over basic bayesian analysis in python.  \n",
    "\n",
    "## Review\n",
    "\n",
    "__Prior p(H):__ Our prior reflects what we know about the value of some parameter before seeing data.  This could refer to previous trials and distributions.\n",
    "\n",
    "__Likelihood p(D|H)__: what is the plausibility that our data is observed, given our prior?\n",
    "\n",
    "__Posterior p(H|D):__ This is result of the Bayesian analysis and reflects all that we know about a problem (given our data and model).\n",
    "\n",
    "__Evidence p(D):__ Evidence is the probability of observing the data averaged over all the possible values the parameters can take. Also knowns as the noramlziing factor. The normalising constant makes sure that the resulting posterior distribution is a true probability distribution by ensuring that the sum of the distribution is equal to 1.\n",
    "\n",
    "Because p(D) is considered a normalizing constant we can say: $p(H|D) \\propto p(D|H) * p(H)$\n",
    "\n",
    "## Coin - Flipping Problem\n",
    "\n",
    "Let's think of these terms in the context of a coin-flipping experiment.\n",
    "\n",
    "On a standard coin, we have two sides, heads or tails.  Both of which are equally likely to show after a coin flip, or a 50% probability.\n",
    "\n",
    "In the case of a coin-flipping trials, we may want to consider this probability our prior.\n",
    "\n",
    "Let's go ahead and create our prior distribution:"
   ]
  },
  {
   "cell_type": "code",
   "execution_count": 3,
   "metadata": {
    "colab": {},
    "colab_type": "code",
    "id": "3S88FE4CpbcG"
   },
   "outputs": [
    {
     "data": {
      "text/plain": [
       "array([0, 0, 1, 0, 0])"
      ]
     },
     "execution_count": 3,
     "metadata": {},
     "output_type": "execute_result"
    }
   ],
   "source": [
    "coin_flips_prior = np.random.binomial(n = 1, p = 0.5, size = 1000)\n",
    "coin_flips_prior[:5]"
   ]
  },
  {
   "cell_type": "code",
   "execution_count": 4,
   "metadata": {
    "colab": {},
    "colab_type": "code",
    "id": "27wlBPn8pbcM"
   },
   "outputs": [
    {
     "data": {
      "text/plain": [
       "array([0.        , 0.01010101, 0.02020202, 0.03030303, 0.04040404,\n",
       "       0.05050505, 0.06060606, 0.07070707, 0.08080808, 0.09090909,\n",
       "       0.1010101 , 0.11111111, 0.12121212, 0.13131313, 0.14141414,\n",
       "       0.15151515, 0.16161616, 0.17171717, 0.18181818, 0.19191919,\n",
       "       0.2020202 , 0.21212121, 0.22222222, 0.23232323, 0.24242424,\n",
       "       0.25252525, 0.26262626, 0.27272727, 0.28282828, 0.29292929,\n",
       "       0.3030303 , 0.31313131, 0.32323232, 0.33333333, 0.34343434,\n",
       "       0.35353535, 0.36363636, 0.37373737, 0.38383838, 0.39393939,\n",
       "       0.4040404 , 0.41414141, 0.42424242, 0.43434343, 0.44444444,\n",
       "       0.45454545, 0.46464646, 0.47474747, 0.48484848, 0.49494949,\n",
       "       0.50505051, 0.51515152, 0.52525253, 0.53535354, 0.54545455,\n",
       "       0.55555556, 0.56565657, 0.57575758, 0.58585859, 0.5959596 ,\n",
       "       0.60606061, 0.61616162, 0.62626263, 0.63636364, 0.64646465,\n",
       "       0.65656566, 0.66666667, 0.67676768, 0.68686869, 0.6969697 ,\n",
       "       0.70707071, 0.71717172, 0.72727273, 0.73737374, 0.74747475,\n",
       "       0.75757576, 0.76767677, 0.77777778, 0.78787879, 0.7979798 ,\n",
       "       0.80808081, 0.81818182, 0.82828283, 0.83838384, 0.84848485,\n",
       "       0.85858586, 0.86868687, 0.87878788, 0.88888889, 0.8989899 ,\n",
       "       0.90909091, 0.91919192, 0.92929293, 0.93939394, 0.94949495,\n",
       "       0.95959596, 0.96969697, 0.97979798, 0.98989899, 1.        ])"
      ]
     },
     "execution_count": 4,
     "metadata": {},
     "output_type": "execute_result"
    }
   ],
   "source": [
    "params = np.linspace(0,1,100)\n",
    "params"
   ]
  },
  {
   "cell_type": "code",
   "execution_count": 5,
   "metadata": {
    "colab": {},
    "colab_type": "code",
    "id": "bOeR37HcpbcQ"
   },
   "outputs": [],
   "source": [
    "p_prior = np.array([np.product(st.bernoulli.pmf(coin_flips_prior, p)) for p in params])"
   ]
  },
  {
   "cell_type": "code",
   "execution_count": 6,
   "metadata": {
    "colab": {},
    "colab_type": "code",
    "id": "AuqlEVUQpbcT"
   },
   "outputs": [
    {
     "data": {
      "image/png": "[encoded data removed]",
      "text/plain": [
       "<Figure size 432x288 with 1 Axes>"
      ]
     },
     "metadata": {},
     "output_type": "display_data"
    }
   ],
   "source": [
    "p_prior = p_prior/np.sum(p_prior)\n",
    "plt.plot(params, p_prior)\n",
    "sns.despine()"
   ]
  },
  {
   "cell_type": "markdown",
   "metadata": {
    "colab_type": "text",
    "id": "_69aywdZpbcW"
   },
   "source": [
    "As you can see, our prior distribution peaks at 0.5 which is what our probability for our fair coin is.\n",
    "\n",
    "Now, let's introduce some observations from trials with an unfair coin.  Let's say the probability is now weight 80-20, where the probability a head is shown is 0.8.\n",
    "\n",
    "Let's create this sampling distribution:"
   ]
  },
  {
   "cell_type": "code",
   "execution_count": 7,
   "metadata": {
    "colab": {},
    "colab_type": "code",
    "id": "UURyMMb5pbcX"
   },
   "outputs": [
    {
     "data": {
      "image/png": "[encoded data removed]",
      "text/plain": [
       "<Figure size 432x288 with 1 Axes>"
      ]
     },
     "metadata": {},
     "output_type": "display_data"
    }
   ],
   "source": [
    "coin_flips_observed = np.random.binomial(n=1, p=0.8, size = 1000)\n",
    "p_observed = np.array([np.product(st.bernoulli.pmf(coin_flips_observed, p)) for p in params])\n",
    "p_observed = p_observed/np.sum(p_observed)\n",
    "plt.plot(params, p_observed)\n",
    "sns.despine()"
   ]
  },
  {
   "cell_type": "markdown",
   "metadata": {
    "colab_type": "text",
    "id": "Chie1Gg4pbcb"
   },
   "source": [
    "The peak for our sampling distribution is around 0.8.\n",
    "\n",
    "While our observations from our sampling distribution indicate a probability around 0.8, because our prior is 0.5, we have to assess the likelihood that these values could be observed and find our posterior distribution.\n",
    "\n",
    "Remember, $p(H|D) \\propto p(D|H) * p(H)\\ OR\\ Posterior\\ \\propto Likelihood\\ *  Prior$"
   ]
  },
  {
   "cell_type": "code",
   "execution_count": 0,
   "metadata": {
    "colab": {},
    "colab_type": "code",
    "id": "lAnyv5BApbcb"
   },
   "outputs": [],
   "source": [
    "p_posterior = [p_prior[i] * p_observed[i] for i in range(len(p_prior))]\n",
    "p_posterior = p_posterior/np.sum(p_posterior)\n",
    "plt.plot(params, p_posterior)\n",
    "sns.despine()"
   ]
  },
  {
   "cell_type": "markdown",
   "metadata": {
    "colab_type": "text",
    "id": "SA-eNhIfpbce"
   },
   "source": [
    "## University of Michigan Student IQs\n",
    "\n",
    "We'll do another example where we have some prior belief about the IQ of University of Michigan students.\n",
    "\n",
    "For our prior distribution, we'll have a normal distribution with a mean IQ of 100 and a standard deviation of 10."
   ]
  },
  {
   "cell_type": "code",
   "execution_count": 9,
   "metadata": {
    "colab": {},
    "colab_type": "code",
    "id": "O39Sb2WLpbcf"
   },
   "outputs": [
    {
     "data": {
      "image/png": "[encoded data removed]",
      "text/plain": [
       "<Figure size 432x288 with 1 Axes>"
      ]
     },
     "metadata": {},
     "output_type": "display_data"
    }
   ],
   "source": [
    "prior_distribution = np.random.normal(100, 10, 1000)\n",
    "plt.hist(prior_distribution)\n",
    "sns.despine()"
   ]
  },
  {
   "cell_type": "markdown",
   "metadata": {
    "colab_type": "text",
    "id": "LwcQkHPApbck"
   },
   "source": [
    "Now, let's say we are collecting some observations of student IQs which takes the shape of a normal distribution with mean 115 and standard deviation of 7.5 and want to construct our posterior distribution.\n",
    "\n",
    "In order to do this, we update our prior by calculating the mean and variance after each observation.\n",
    "\n",
    "The equations for our updated prior mean and variance are:\n",
    "\n",
    "$$Updated\\ Prior\\ Mean = \\frac{\\sigma^2\\mu_{observed} + \\sigma_{prior}^2x}{\\sigma_{observed}^2 + \\sigma_{prior}^2}$$\n",
    "\n",
    "$$Updated\\ Prior\\ Variance = \\frac{\\sigma_{observed}^2\\sigma_{prior}^2}{\\sigma_{observed}^2 + \\sigma_{prior}^2}$$"
   ]
  },
  {
   "cell_type": "code",
   "execution_count": 10,
   "metadata": {
    "colab": {},
    "colab_type": "code",
    "id": "8jnqJUX7pbck"
   },
   "outputs": [
    {
     "data": {
      "image/png": "[encoded data removed]",
      "text/plain": [
       "<Figure size 432x288 with 1 Axes>"
      ]
     },
     "metadata": {},
     "output_type": "display_data"
    }
   ],
   "source": [
    "np.random.seed(5)\n",
    "observed_distribution = np.random.normal(115, 10, 1000)\n",
    "mu = [100] * 1000\n",
    "sigma = [10] * 1000\n",
    "\n",
    "mu[0] = (10**2*observed_distribution[0] + (10**2)*100)/(10**2+10**2)\n",
    "sigma[0] = (10**2*10**2)/(10**2+10**2)\n",
    "\n",
    "for i in range(1000):\n",
    "    if i == 999:\n",
    "        break\n",
    "    mu[i + 1] = (sigma[i]**2*observed_distribution[i+1] + (10**2)*mu[i] )/(sigma[i]**2+10**2)\n",
    "    sigma[i + 1] = (sigma[i]*10**2)/(sigma[i]+10**2)\n",
    "    \n",
    "\n",
    "posterior_distributions = [[]] * 20\n",
    "    \n",
    "for i in range(20):\n",
    "    posterior_distributions[i] = np.random.normal(mu[i], sigma[i], 1000)\n",
    "    \n",
    "plt.hist(prior_distribution)\n",
    "plt.hist(observed_distribution, alpha = 0.75)\n",
    "plt.hist(posterior_distributions[14], alpha = 0.5)\n",
    "sns.despine()"
   ]
  },
  {
   "cell_type": "code",
   "execution_count": null,
   "metadata": {},
   "outputs": [],
   "source": []
  }
 ],
 "metadata": {
  "colab": {
   "collapsed_sections": [],
   "name": "Python Bayesian Tutorial.ipynb",
   "provenance": [],
   "version": "0.3.2"
  },
  "kernelspec": {
   "display_name": "Python 3",
   "language": "python",
   "name": "python3"
  },
  "language_info": {
   "codemirror_mode": {
    "name": "ipython",
    "version": 3
   },
   "file_extension": ".py",
   "mimetype": "text/x-python",
   "name": "python",
   "nbconvert_exporter": "python",
   "pygments_lexer": "ipython3",
   "version": "3.6.3"
  }
 },
 "nbformat": 4,
 "nbformat_minor": 1
}
